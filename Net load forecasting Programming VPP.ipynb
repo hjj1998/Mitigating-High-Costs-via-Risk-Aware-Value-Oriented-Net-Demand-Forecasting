{
 "cells": [
  {
   "cell_type": "code",
   "execution_count": 1,
   "metadata": {},
   "outputs": [],
   "source": [
    "import pandas as pd\n",
    "import numpy as np\n",
    "import matplotlib.pyplot as plt\n",
    "import deepdish as dd\n",
    "import csv\n",
    "import random\n",
    "import os\n",
    "from scipy import io\n",
    "\n",
    "from collections import deque\n",
    "import torch\n",
    "import torch.nn as nn\n",
    "import torch.nn.functional as F \n",
    "from sklearn.metrics import mean_squared_error\n",
    "\n",
    "import torch.autograd\n",
    "from torch.autograd import Variable\n",
    "import torch.optim as optim\n",
    "import math\n",
    "from collections import namedtuple, deque\n",
    "from scipy import stats\n",
    "\n",
    "import gurobipy  as grb\n",
    "from gurobipy import *\n",
    "GRB = grb.GRB\n"
   ]
  },
  {
   "cell_type": "code",
   "execution_count": 2,
   "metadata": {},
   "outputs": [
    {
     "name": "stdout",
     "output_type": "stream",
     "text": [
      "1132\n",
      "The number of users: 1132\n"
     ]
    }
   ],
   "source": [
    "files = os.listdir('D:\\python\\聚类Exploration\\Baseline估计Integrate Way\\CleanData')\n",
    "#print(files)\n",
    "print(len(files))\n",
    "\n",
    "Dicblock0 = {}\n",
    "for i in range(len(files)):\n",
    "    Dicblock0[files[i]] = np.load(\"D:/python/聚类Exploration/Baseline估计Integrate Way/CleanData/\" + files[i])\n",
    "\n",
    "print('The number of users:', len(files))\n",
    "\n",
    "\n",
    "with open('D:/python/Online Forecast/Elasticity Modelling/Acorn.csv') as csv_file:\n",
    "    reader = csv.reader(csv_file)\n",
    "    Acorn_info = dict(reader)\n",
    "    \n",
    "    \n",
    "with open('D:/python/Online Forecast/Elasticity Modelling/ToU.csv') as csv_file:\n",
    "    reader = csv.reader(csv_file)\n",
    "    ToU_info = dict(reader)\n",
    "\n",
    "df_tarrif = pd.read_csv(\"D:/python/Online Forecast/Elasticity Modelling/Tariffs.csv\", encoding=\"utf-8\")"
   ]
  },
  {
   "cell_type": "code",
   "execution_count": 3,
   "metadata": {},
   "outputs": [
    {
     "name": "stdout",
     "output_type": "stream",
     "text": [
      "7\n"
     ]
    }
   ],
   "source": [
    "lpvalueloss = io.loadmat('./lpvalueloss.mat')\n",
    "Nregion = lpvalueloss['A'].shape[1]\n",
    "print(Nregion)"
   ]
  },
  {
   "cell_type": "code",
   "execution_count": 42,
   "metadata": {},
   "outputs": [
    {
     "name": "stdout",
     "output_type": "stream",
     "text": [
      "60.000000098994946\n"
     ]
    }
   ],
   "source": [
    "print(42.42640687/0.70710678)"
   ]
  },
  {
   "cell_type": "code",
   "execution_count": 4,
   "metadata": {},
   "outputs": [
    {
     "name": "stdout",
     "output_type": "stream",
     "text": [
      "[[ 1.          0.        ]\n",
      " [ 0.         -1.        ]\n",
      " [ 0.70710678 -0.70710678]\n",
      " [-0.70710678  0.70710678]]\n",
      "[[70.        ]\n",
      " [ 0.        ]\n",
      " [42.42640687]\n",
      " [ 0.        ]]\n",
      "[[ 7 18]]\n",
      "[[0]]\n",
      "\n",
      "[[-1.          0.        ]\n",
      " [ 1.          0.        ]\n",
      " [ 0.70710678 -0.70710678]\n",
      " [-0.70710678  0.70710678]]\n",
      "[[-70.        ]\n",
      " [120.        ]\n",
      " [ 42.42640687]\n",
      " [  0.        ]]\n",
      "[[12 18]]\n",
      "[[-350]]\n",
      "\n",
      "[[ 1.          0.        ]\n",
      " [ 0.         -1.        ]\n",
      " [-0.70710678  0.70710678]]\n",
      "[[ 70.        ]\n",
      " [  0.        ]\n",
      " [-42.42640687]]\n",
      "[[ 9 16]]\n",
      "[[-120]]\n",
      "\n",
      "[[-1.          0.        ]\n",
      " [ 1.          0.        ]\n",
      " [ 0.          1.        ]\n",
      " [-0.70710678  0.70710678]\n",
      " [ 0.70710678 -0.70710678]]\n",
      "[[  0.        ]\n",
      " [ 70.        ]\n",
      " [120.        ]\n",
      " [ 42.42640687]\n",
      " [  0.        ]]\n",
      "[[-30  55]]\n",
      "[[0]]\n",
      "\n",
      "[[-1.          0.        ]\n",
      " [ 1.          0.        ]\n",
      " [ 0.         -1.        ]\n",
      " [-0.70710678  0.70710678]]\n",
      "[[-70.        ]\n",
      " [120.        ]\n",
      " [  0.        ]\n",
      " [-42.42640687]]\n",
      "[[14 16]]\n",
      "[[-470]]\n",
      "\n",
      "[[-1.          0.        ]\n",
      " [ 0.          1.        ]\n",
      " [ 0.70710678 -0.70710678]]\n",
      "[[-70.]\n",
      " [120.]\n",
      " [  0.]]\n",
      "[[-25  55]]\n",
      "[[-350]]\n",
      "\n",
      "[[-1.          0.        ]\n",
      " [ 0.          1.        ]\n",
      " [ 0.70710678 -0.70710678]]\n",
      "[[  0.        ]\n",
      " [120.        ]\n",
      " [-42.42640687]]\n",
      "[[-35  60]]\n",
      "[[-300]]\n",
      "\n"
     ]
    }
   ],
   "source": [
    "for i in range(Nregion):\n",
    "    print(lpvalueloss['A'][0,i])\n",
    "    print(lpvalueloss['b'][0,i])\n",
    "    print(lpvalueloss['F'][0,i])\n",
    "    print(lpvalueloss['g'][0,i])\n",
    "    print()"
   ]
  },
  {
   "cell_type": "code",
   "execution_count": 5,
   "metadata": {},
   "outputs": [],
   "source": [
    "# 判断 Acorn_info, ToUInfo unique类别的个数 \n",
    "def unique(Dic):\n",
    "    lis = []\n",
    "    for key,value in Dic.items():\n",
    "        lis.append(value)\n",
    "    #print(lis)\n",
    "    df = pd.DataFrame(lis)\n",
    "    return df[0].unique()\n",
    "\n",
    "def CustomerDivisonTariff(ToU_info, ToUUnique,Dicblock0):\n",
    "    \n",
    "    ## 初始化\n",
    "    TariffDic = {}\n",
    "    TariffDicStdR = {}\n",
    "    TariffDicToUR = {}\n",
    "    \n",
    "    TariffDicStdMAX = {}\n",
    "    TariffDicToUMAX= {}\n",
    "    \n",
    "        \n",
    "    for x in ToUUnique:\n",
    "        TariffDic[x] = []\n",
    "     \n",
    "        \n",
    "    ## 划分三个集合    \n",
    "    for key,value in ToU_info.items():\n",
    "        if value == 'Std':\n",
    "            TariffDic['Std'].append(Dicblock0[key+'.npy'])\n",
    "        else:\n",
    "            TariffDic['ToU'].append(Dicblock0[key+'.npy'])\n",
    "            \n",
    "    print('Number of ToU users:',len(TariffDic['ToU']))\n",
    "    print('Number of Std users:',len(TariffDic['Std']))\n",
    "    \n",
    "      \n",
    "    \n",
    "    s = 0\n",
    "    for user in range(len(TariffDic['ToU'])):\n",
    "        s += TariffDic['ToU'][user]\n",
    "    \n",
    "    sStd = 0\n",
    "    for user in range(len(TariffDic['Std'])):\n",
    "        sStd += TariffDic['Std'][user]\n",
    "    \n",
    "    \n",
    "    \n",
    "    \n",
    "    return s+20\n",
    "\n"
   ]
  },
  {
   "cell_type": "code",
   "execution_count": 6,
   "metadata": {},
   "outputs": [],
   "source": [
    "def load_normalization(load,hmin,hmax):\n",
    "    \n",
    "    load = load.reshape(-1)\n",
    "    Xmin = np.min(load)\n",
    "    Xmax = np.max(load)\n",
    "    \n",
    "    XR = (load-Xmin)/(Xmax-Xmin)\n",
    "    \n",
    "    print(np.min(XR*(hmax-hmin)+hmin),np.max(XR*(hmax-hmin)+hmin))\n",
    "    \n",
    "    return (XR*(hmax-hmin)+hmin).reshape(365,-1)"
   ]
  },
  {
   "cell_type": "code",
   "execution_count": 7,
   "metadata": {},
   "outputs": [
    {
     "name": "stdout",
     "output_type": "stream",
     "text": [
      "Number of ToU users: 251\n",
      "Number of Std users: 881\n",
      "55.0 90.0\n"
     ]
    }
   ],
   "source": [
    "ToUUnique = unique(ToU_info)\n",
    "TariffDicToUEst = CustomerDivisonTariff(ToU_info, ToUUnique,Dicblock0)\n",
    "TariffDicToUEst = load_normalization(TariffDicToUEst[:,np.arange(0,48,2)],hmin = 55,hmax = 90)"
   ]
  },
  {
   "cell_type": "code",
   "execution_count": 8,
   "metadata": {},
   "outputs": [],
   "source": [
    "wind2012 = np.load('D:\\python\\Integrated Forecasting and Optimizing\\Imbalance Example/clean data/wind2012.npy')\n",
    "wind2012new = wind2012[:-23,:]"
   ]
  },
  {
   "cell_type": "code",
   "execution_count": 9,
   "metadata": {},
   "outputs": [
    {
     "name": "stdout",
     "output_type": "stream",
     "text": [
      "(8760, 5)\n"
     ]
    }
   ],
   "source": [
    "print(wind2012new.shape)"
   ]
  },
  {
   "cell_type": "code",
   "execution_count": 10,
   "metadata": {},
   "outputs": [],
   "source": [
    "windpower = wind2012new[:,0].reshape(365,-1)*55"
   ]
  },
  {
   "cell_type": "code",
   "execution_count": 11,
   "metadata": {},
   "outputs": [],
   "source": [
    "def PreProcessing(X,Xwind,H=24):\n",
    "\n",
    "    X = X.reshape(-1,H)\n",
    "    Y = X[3:,:]\n",
    "    Xf = np.zeros((Y.shape[0]*H,4))\n",
    "    \n",
    "    for i in range(Y.shape[0]):\n",
    "        for j in range(H):\n",
    "            if j < 23:\n",
    "                Xf[i*H+j,:] = np.array([X[i,j],X[i+1,j],X[i+1,j+1],X[i+2,j]])\n",
    "            else:\n",
    "                Xf[i*H+j,:] = np.array([X[i,j],X[i+1,j],X[i+2,0],X[i+2,j]])\n",
    "            \n",
    "#             if j < 23 & j>0:               \n",
    "#                 Xf[i*H+j,:] = np.array([X[i,j],X[i+1,j],X[i+1,j+1],X[i+2,j],X[i+2,j-1]])\n",
    "#             elif j == 23:\n",
    "#                 Xf[i*H+j,:] = np.array([X[i,j],X[i+1,j],X[i+2,0],X[i+2,j],X[i+2,j-1]])\n",
    "#             elif j == 0:\n",
    "#                 Xf[i*H+j,:] = np.array([X[i,j],X[i+1,j],X[i+1,j+1],X[i+2,j],X[i+1,23]])\n",
    "    \n",
    "    trainsize = int(Y.shape[0]*0.8)*24\n",
    "    \n",
    "    Xwindnew = Xwind[3*H:,:]\n",
    "    \n",
    "    print(Xf.shape,Xwindnew.shape)\n",
    "    \n",
    "    #Xf = np.hstack((Xl,Xwind[3*H:,:]))\n",
    "    \n",
    "    Xmin = np.min(np.hstack((Xf,Xwindnew))[:trainsize,:],axis = 0)\n",
    "    Xmax = np.max(np.hstack((Xf,Xwindnew))[:trainsize,:],axis = 0)\n",
    "    \n",
    "    Ymin = np.min(Y.reshape(-1)[:trainsize,])\n",
    "    Ymax = np.max(Y.reshape(-1)[:trainsize,])\n",
    "    \n",
    "    XTrR = (np.hstack((Xf,Xwindnew))[:trainsize,:]-Xmin)/(Xmax-Xmin)\n",
    "    XTeR = (np.hstack((Xf,Xwindnew))[trainsize:,:]-Xmin)/(Xmax-Xmin)\n",
    "    \n",
    "    YTrR = (Y.reshape(-1)[:trainsize,]-Ymin)/(Ymax-Ymin)\n",
    "    YTeR = (Y.reshape(-1)[trainsize:,]-Ymin)/(Ymax-Ymin)\n",
    "\n",
    "#     Xmin = np.min(Xf[:trainsize,:],axis = 0)\n",
    "#     Xmax = np.max(Xf[:trainsize,:],axis = 0)\n",
    "    \n",
    "#     Ymin = np.min(Y.reshape(-1)[:trainsize,])\n",
    "#     Ymax = np.max(Y.reshape(-1)[:trainsize,])\n",
    "    \n",
    "#     XTrR = (Xf[:trainsize,:]-Xmin)/(Xmax-Xmin)\n",
    "#     XTeR = (Xf[trainsize:,:]-Xmin)/(Xmax-Xmin)\n",
    "    \n",
    "#     YTrR = (Y.reshape(-1)[:trainsize,]-Ymin)/(Ymax-Ymin)\n",
    "#     YTeR = (Y.reshape(-1)[trainsize:,]-Ymin)/(Ymax-Ymin)\n",
    "    \n",
    "    \n",
    "    \n",
    "    return XTrR,XTeR,YTrR,YTeR,Y.reshape(-1)[:trainsize,],Y.reshape(-1)[trainsize:,],Ymin,Ymax\n",
    "\n",
    "\n",
    "    \n",
    "\n",
    "\n",
    "def DeProcessing(X,Xmin,Xmax):\n",
    "    \n",
    "    return (X)*(Xmax-Xmin)+Xmin"
   ]
  },
  {
   "cell_type": "code",
   "execution_count": 12,
   "metadata": {},
   "outputs": [
    {
     "name": "stdout",
     "output_type": "stream",
     "text": [
      "(8688, 4) (8688, 4)\n"
     ]
    }
   ],
   "source": [
    "XTrR,XTeR,YTrR,YTeR,YTr,YTe,Ymin,Ymax = \\\n",
    "PreProcessing((TariffDicToUEst-windpower)*1.2,wind2012new[:,1:],H=24)"
   ]
  },
  {
   "cell_type": "code",
   "execution_count": 13,
   "metadata": {},
   "outputs": [
    {
     "name": "stdout",
     "output_type": "stream",
     "text": [
      "(6936, 8)\n"
     ]
    }
   ],
   "source": [
    "print(XTrR.shape)"
   ]
  },
  {
   "cell_type": "code",
   "execution_count": 14,
   "metadata": {},
   "outputs": [
    {
     "name": "stdout",
     "output_type": "stream",
     "text": [
      "(1752,)\n",
      "1.365831972345083 105.16200108964941\n"
     ]
    }
   ],
   "source": [
    "\n",
    "print(YTe.shape)\n",
    "print(Ymin,Ymax)"
   ]
  },
  {
   "cell_type": "code",
   "execution_count": 15,
   "metadata": {},
   "outputs": [],
   "source": [
    "# YTr = 1- YTr\n",
    "# YTe = 1- YTe"
   ]
  },
  {
   "cell_type": "code",
   "execution_count": 16,
   "metadata": {},
   "outputs": [],
   "source": [
    "\n",
    "BETA=0.3\n",
    "Nweight = 8 # number of input features"
   ]
  },
  {
   "cell_type": "code",
   "execution_count": 17,
   "metadata": {},
   "outputs": [],
   "source": [
    "def least_square(XTr,YTr,XTe,Nweight=Nweight):\n",
    "    m=grb.Model(\"mse\")\n",
    "    weights = m.addVars(range(Nweight+1),lb = -GRB.INFINITY,vtype=GRB.CONTINUOUS)\n",
    "    Llist = m.addVars(range(YTr.shape[0]),lb = 0,vtype=GRB.CONTINUOUS)\n",
    "    #ypre = m.addVars(range(YloadTr.shape[0]),lb = 55,ub = 90,vtype=GRB.CONTINUOUS)\n",
    "    ypre = []\n",
    "    s = 0\n",
    "    for i in range(YTr.shape[0]):\n",
    "        \n",
    "        ypre.append(Ymin+\\\n",
    "                    (Ymax-Ymin)*(sum([XTr[i,nw]*weights[nw] \\\n",
    "                                      for nw in range(Nweight)])+weights[Nweight]))\n",
    "        s = s + (ypre[i]-YTr[i])*(ypre[i]-YTr[i])\n",
    "    \n",
    "    obj = s/YTr.shape[0]\n",
    "    \n",
    "    m.setObjective(obj, GRB.MINIMIZE)\n",
    "\n",
    "    m.optimize() \n",
    "    \n",
    "    weights = m.getAttr('x', weights)\n",
    "    \n",
    "    weights = weights.values()\n",
    "    print(weights)\n",
    "    \n",
    "    \n",
    "    ypreTr = []\n",
    "    ypreTe = []\n",
    "    for n in range(XTr.shape[0]):\n",
    "        \n",
    "        ypreTr.append(sum([XTr[n,nw]*weights[nw] for nw in range(Nweight)])\\\n",
    "                      +weights[Nweight])\n",
    "            \n",
    "#             XTr[n,0]*weights[0]+XTr[n,1]*weights[1]+XTr[n,2]*weights[2]+XTr[n,3]*weights[3]+weights[4])\n",
    "    YTr_preO = DeProcessing(np.array(ypreTr),Ymin,Ymax)\n",
    "    \n",
    "    for n in range(XTe.shape[0]):\n",
    "        \n",
    "        ypreTe.append(sum([XTe[n,nw]*weights[nw] for nw in range(Nweight)])\\\n",
    "                      +weights[Nweight])\n",
    "    YTe_preO = DeProcessing(np.array(ypreTe),Ymin,Ymax)\n",
    "    \n",
    "    return YTr_preO,YTe_preO\n",
    "    "
   ]
  },
  {
   "cell_type": "code",
   "execution_count": 18,
   "metadata": {},
   "outputs": [
    {
     "name": "stdout",
     "output_type": "stream",
     "text": [
      "Set parameter Username\n",
      "Academic license - for non-commercial use only - expires 2024-07-09\n",
      "Gurobi Optimizer version 10.0.2 build v10.0.2rc0 (win64)\n",
      "\n",
      "CPU model: Intel(R) Core(TM) i5-10210U CPU @ 1.60GHz, instruction set [SSE2|AVX|AVX2]\n",
      "Thread count: 4 physical cores, 8 logical processors, using up to 8 threads\n",
      "\n",
      "Optimize a model with 0 rows, 6945 columns and 0 nonzeros\n",
      "Model fingerprint: 0xac642fe3\n",
      "Model has 45 quadratic objective terms\n",
      "Coefficient statistics:\n",
      "  Matrix range     [0e+00, 0e+00]\n",
      "  Objective range  [5e+03, 1e+04]\n",
      "  QObjective range [5e+03, 2e+04]\n",
      "  Bounds range     [0e+00, 0e+00]\n",
      "  RHS range        [0e+00, 0e+00]\n",
      "Presolve removed 0 rows and 6936 columns\n",
      "Presolve time: 0.01s\n",
      "Presolved: 0 rows, 9 columns, 0 nonzeros\n",
      "Presolved model has 45 quadratic objective terms\n",
      "Ordering time: 0.00s\n",
      "\n",
      "Barrier statistics:\n",
      " Free vars  : 17\n",
      " AA' NZ     : 2.800e+01\n",
      " Factor NZ  : 3.600e+01\n",
      " Factor Ops : 2.040e+02 (less than 1 second per iteration)\n",
      " Threads    : 1\n",
      "\n",
      "                  Objective                Residual\n",
      "Iter       Primal          Dual         Primal    Dual     Compl     Time\n",
      "   0   3.65475122e+03  3.65475122e+03  0.00e+00 1.17e+04  0.00e+00     0s\n",
      "   1   3.64175150e+03  3.65473850e+03  2.19e-08 1.17e+04  0.00e+00     0s\n",
      "   2   3.62321129e+03  3.65467613e+03  4.91e-08 1.17e+04  0.00e+00     0s\n",
      "   3   3.58241439e+03  3.65435379e+03  1.18e-07 1.16e+04  0.00e+00     0s\n",
      "   4   3.46560023e+03  3.65198423e+03  2.08e-07 1.14e+04  0.00e+00     0s\n",
      "   5   3.36171869e+03  3.64799980e+03  4.28e-07 1.12e+04  0.00e+00     0s\n",
      "   6   3.08772957e+03  3.62829100e+03  8.51e-07 1.07e+04  0.00e+00     0s\n",
      "   7   2.72617515e+03  3.57897088e+03  1.84e-06 9.96e+03  0.00e+00     0s\n",
      "   8   2.36148530e+03  3.49646135e+03  3.74e-06 9.17e+03  0.00e+00     0s\n",
      "   9   1.74547845e+03  3.25379016e+03  7.79e-06 7.66e+03  0.00e+00     0s\n",
      "  10   5.59355389e+02  1.85336895e+03  1.22e-05 3.10e+03  0.00e+00     0s\n",
      "  11   3.26865578e+02  3.26852736e+02  1.92e-06 3.10e-03  0.00e+00     0s\n",
      "  12   3.26850976e+02  3.26850976e+02  5.87e-12 3.10e-09  0.00e+00     0s\n",
      "\n",
      "Barrier solved model in 12 iterations and 0.03 seconds (0.00 work units)\n",
      "Optimal objective 3.26850976e+02\n",
      "\n",
      "[0.03322285056706573, 0.11602394192537534, -0.06505904211844181, 0.2376454292861397, -1.3243534734252884, -0.8154231829536414, 0.7385132549450323, 0.9600292889843972, 0.5652652248395896]\n"
     ]
    }
   ],
   "source": [
    "YTr_preOacc,YTe_preOacc = least_square(XTrR,YTr,XTeR)"
   ]
  },
  {
   "cell_type": "code",
   "execution_count": 19,
   "metadata": {},
   "outputs": [],
   "source": [
    "#def risk_neutral(XTr,YloadTr,YTr,XTe,YTe,YloadTe,N=N,Nregion = Nregion):\n",
    "def risk_neutral(XTr,YTr,XTe,Nweight=Nweight,Nregion = Nregion):    \n",
    "    \n",
    "    m=grb.Model(\"neural\")\n",
    "    weights = m.addVars(range(Nweight+1),lb = -GRB.INFINITY,vtype=GRB.CONTINUOUS)\n",
    "    Llist = m.addVars(range(YTr.shape[0]),lb = 0,vtype=GRB.CONTINUOUS)\n",
    "    #ypre = m.addVars(range(YloadTr.shape[0]),lb = 55,ub = 90,vtype=GRB.CONTINUOUS)\n",
    "    ypre = []\n",
    "    s = 0\n",
    "    for i in range(YTr.shape[0]):\n",
    "        \n",
    "        ypre.append(Ymin+\\\n",
    "                    (Ymax-Ymin)*(sum([XTr[i,nw]*weights[nw] \\\n",
    "                                      for nw in range(Nweight)])+weights[Nweight]))\n",
    "            \n",
    "        \n",
    "        for j in range(Nregion):\n",
    "            m.addConstr(Llist[i] >= (lpvalueloss['F'][0,j][0,0])*ypre[i]+\\\n",
    "                       lpvalueloss['F'][0,j][0,1]*YTr[i]+\\\n",
    "                        lpvalueloss['g'][0,j][0,0])\n",
    "        s = s + Llist[i]\n",
    "    obj = s/YTr.shape[0]\n",
    "    \n",
    "    m.setObjective(obj, GRB.MINIMIZE)\n",
    "\n",
    "    m.optimize()   \n",
    "    \n",
    "    \n",
    "    #weights = m.getAttr('x', weights)\n",
    "    Llist = m.getAttr('x', Llist)\n",
    "    weights = m.getAttr('x', weights)\n",
    "    \n",
    "    weights = weights.values()\n",
    "    print(weights)\n",
    "    \n",
    "    \n",
    "    ypreTr = []\n",
    "    ypreTe = []\n",
    "    for n in range(XTr.shape[0]):\n",
    "        \n",
    "        ypreTr.append(sum([XTr[n,nw]*weights[nw] for nw in range(Nweight)])\\\n",
    "                      +weights[Nweight])\n",
    "            \n",
    "#             XTr[n,0]*weights[0]+XTr[n,1]*weights[1]+XTr[n,2]*weights[2]+XTr[n,3]*weights[3]+weights[4])\n",
    "    YTr_preO = DeProcessing(np.array(ypreTr),Ymin,Ymax)\n",
    "    \n",
    "    for n in range(XTe.shape[0]):\n",
    "        \n",
    "        ypreTe.append(sum([XTe[n,nw]*weights[nw] for nw in range(Nweight)])\\\n",
    "                      +weights[Nweight])\n",
    "    YTe_preO = DeProcessing(np.array(ypreTe),Ymin,Ymax)\n",
    "    \n",
    "#     LlistTe = []\n",
    "#     for i in range(XTe.shape[0]):   \n",
    "#         for j in range(Nregion):\n",
    "#             LlistTe.append(lpvalueloss['F'][0,j][0,0]*YTe_preO[i]*N+lpvalueloss['F'][0,j][0,1]*YloadTe[i]+\\\n",
    "#                        lpvalueloss['F'][0,j][0,2]*YTe[i]*N+lpvalueloss['g'][0,j][0,0])\n",
    "#     print(np.mean(LlistTe))\n",
    "    \n",
    "    return YTe_preO,YTr_preO\n",
    "    \n",
    "    \n"
   ]
  },
  {
   "cell_type": "code",
   "execution_count": 20,
   "metadata": {},
   "outputs": [
    {
     "name": "stdout",
     "output_type": "stream",
     "text": [
      "Gurobi Optimizer version 10.0.2 build v10.0.2rc0 (win64)\n",
      "\n",
      "CPU model: Intel(R) Core(TM) i5-10210U CPU @ 1.60GHz, instruction set [SSE2|AVX|AVX2]\n",
      "Thread count: 4 physical cores, 8 logical processors, using up to 8 threads\n",
      "\n",
      "Optimize a model with 48552 rows, 6945 columns and 485464 nonzeros\n",
      "Model fingerprint: 0x39c1d8cf\n",
      "Coefficient statistics:\n",
      "  Matrix range     [1e+00, 4e+03]\n",
      "  Objective range  [1e-04, 1e-04]\n",
      "  Bounds range     [0e+00, 0e+00]\n",
      "  RHS range        [5e-03, 6e+03]\n",
      "Presolve time: 0.33s\n",
      "Presolved: 6945 rows, 48552 columns, 485464 nonzeros\n",
      "\n",
      "Concurrent LP optimizer: dual simplex and barrier\n",
      "Showing barrier log only...\n",
      "\n",
      "Presolve time: 0.52s\n",
      "Presolved: 6945 rows, 48552 columns, 485464 nonzeros\n",
      "\n",
      "Ordering time: 0.00s\n",
      "\n",
      "Barrier statistics:\n",
      " AA' NZ     : 6.245e+04\n",
      " Factor NZ  : 6.975e+04 (roughly 23 MB of memory)\n",
      " Factor Ops : 7.070e+05 (less than 1 second per iteration)\n",
      " Threads    : 3\n",
      "\n",
      "                  Objective                Residual\n",
      "Iter       Primal          Dual         Primal    Dual     Compl     Time\n",
      "   0   3.03692462e+05  4.34354346e+02  2.23e+02 2.69e+02  5.56e+01     1s\n",
      "   1   1.28387243e+05  8.85916489e+03  8.05e+01 0.00e+00  1.81e+01     1s\n",
      "   2   1.02803410e+03  8.76271642e+03  4.34e-13 6.82e-13  1.39e-01     1s\n",
      "   3   1.16361537e+03  2.13990121e+03  9.43e-15 6.25e-13  1.76e-02     1s\n",
      "   4   1.33899243e+03  1.71649981e+03  1.63e-14 3.13e-13  6.80e-03     1s\n",
      "   5   1.49378059e+03  1.65619561e+03  2.48e-14 1.56e-13  2.93e-03     1s\n",
      "   6   1.54792987e+03  1.63687817e+03  3.37e-14 1.60e-13  1.60e-03     1s\n",
      "   7   1.59198504e+03  1.62625624e+03  6.80e-14 1.71e-13  6.18e-04     1s\n",
      "   8   1.60376791e+03  1.62289558e+03  1.53e-13 1.42e-13  3.45e-04     1s\n",
      "   9   1.60859043e+03  1.62181194e+03  1.48e-13 1.67e-13  2.38e-04     1s\n",
      "  10   1.61023418e+03  1.62096053e+03  1.73e-13 1.39e-13  1.93e-04     1s\n",
      "  11   1.61194028e+03  1.62042601e+03  2.90e-13 1.14e-13  1.53e-04     1s\n",
      "  12   1.61345440e+03  1.61998380e+03  2.03e-13 1.99e-13  1.18e-04     1s\n",
      "  13   1.61569132e+03  1.61973483e+03  4.88e-13 1.63e-13  7.29e-05     1s\n",
      "  14   1.61676260e+03  1.61946056e+03  5.67e-13 1.71e-13  4.86e-05     1s\n",
      "  15   1.61730916e+03  1.61937569e+03  7.40e-13 1.85e-13  3.72e-05     1s\n",
      "  16   1.61779120e+03  1.61931042e+03  6.28e-13 1.56e-13  2.74e-05     1s\n",
      "  17   1.61808213e+03  1.61929079e+03  1.75e-12 1.42e-13  2.18e-05     1s\n",
      "  18   1.61842643e+03  1.61928296e+03  2.88e-12 1.56e-13  1.54e-05     1s\n",
      "  19   1.61864251e+03  1.61927187e+03  7.66e-12 1.42e-13  1.13e-05     1s\n",
      "  20   1.61883429e+03  1.61926625e+03  1.04e-11 1.28e-13  7.78e-06     1s\n",
      "  21   1.61896272e+03  1.61925962e+03  4.63e-12 1.85e-13  5.35e-06     1s\n",
      "  22   1.61904548e+03  1.61925600e+03  6.54e-12 1.42e-13  3.79e-06     1s\n",
      "  23   1.61909124e+03  1.61925329e+03  6.62e-12 1.49e-13  2.92e-06     1s\n",
      "  24   1.61919570e+03  1.61925245e+03  2.71e-11 1.71e-13  1.02e-06     1s\n",
      "  25   1.61921883e+03  1.61925159e+03  1.00e-10 1.35e-13  5.90e-07     1s\n",
      "  26   1.61924088e+03  1.61925115e+03  1.08e-10 1.71e-13  1.85e-07     1s\n",
      "  27   1.61925060e+03  1.61925094e+03  4.90e-11 1.49e-13  6.08e-09     1s\n",
      "  28   1.61925091e+03  1.61925091e+03  4.07e-12 1.71e-13  6.08e-12     1s\n",
      "\n",
      "Barrier solved model in 28 iterations and 1.37 seconds (0.89 work units)\n",
      "Optimal objective 1.61925091e+03\n",
      "\n",
      "Crossover log...\n",
      "\n",
      "     106 DPushes remaining with DInf 0.0000000e+00                 1s\n",
      "       0 DPushes remaining with DInf 0.0000000e+00                 1s\n",
      "\n",
      "       0 PPushes remaining with PInf 0.0000000e+00                 1s\n",
      "\n",
      "  Push phase complete: Pinf 0.0000000e+00, Dinf 7.2809314e-11      1s\n",
      "\n",
      "Iteration    Objective       Primal Inf.    Dual Inf.      Time\n",
      "     109    1.6192509e+03   0.000000e+00   0.000000e+00      2s\n",
      "\n",
      "Solved with barrier\n",
      "     109    1.6192509e+03   0.000000e+00   0.000000e+00      2s\n",
      "\n",
      "Solved in 109 iterations and 1.64 seconds (1.01 work units)\n",
      "Optimal objective  1.619250908e+03\n",
      "[0.04283311450053853, 0.10324946079314962, -0.07677729619516155, 0.16243744179748357, -0.845664658735778, -0.6381877068260685, 0.5392668628717466, 0.6924961640713015, 0.6590635303588305]\n"
     ]
    }
   ],
   "source": [
    "YTe_preOneutral,YTr_preOneutral = risk_neutral(XTrR,YTr,XTeR)"
   ]
  },
  {
   "cell_type": "code",
   "execution_count": 21,
   "metadata": {},
   "outputs": [],
   "source": [
    "#def risk_aversion(XTr,YloadTr,YTr,XTe,YTe,YloadTe,BETA=BETA,N=N,Nregion = 3):\n",
    "def risk_aversion(XTr,YTr,XTe,Nweight=Nweight,BETA=BETA,Nregion = Nregion): \n",
    "    \n",
    "    m=grb.Model(\"aversion\")\n",
    "    weights = m.addVars(range(Nweight+1),lb = -GRB.INFINITY,vtype=GRB.CONTINUOUS)\n",
    "    Llist = m.addVars(range(YTr.shape[0]),lb = 0,vtype=GRB.CONTINUOUS)\n",
    "    alpha = m.addVar(lb = 0,vtype=GRB.CONTINUOUS)\n",
    "    eta = m.addVars(range(YTr.shape[0]),lb = 0,vtype=GRB.CONTINUOUS)\n",
    "    #ypre = m.addVars(range(YTr.shape[0]),lb = 55,ub = 90,vtype=GRB.CONTINUOUS)\n",
    "    ypre = []\n",
    "    s = 0\n",
    "    for i in range(YTr.shape[0]):\n",
    "        ypre.append(Ymin+\\\n",
    "                    (Ymax-Ymin)*(sum([XTr[i,nw]*weights[nw] \\\n",
    "                                      for nw in range(Nweight)])+weights[Nweight]))\n",
    "        m.addConstr(eta[i] >= 0)\n",
    "        \n",
    "        for j in range(Nregion):\n",
    "            m.addConstr(eta[i] >= (lpvalueloss['F'][0,j][0,0])*ypre[i]+\\\n",
    "                       lpvalueloss['F'][0,j][0,1]*YTr[i]+\\\n",
    "                        lpvalueloss['g'][0,j][0,0]-alpha)\n",
    "        #m.addConstr(eta[i] >= Llist[i]-alpha)   \n",
    "        s = s + eta[i]\n",
    "    obj = alpha+s/(YTr.shape[0]*(1-BETA))\n",
    "    \n",
    "    m.setObjective(obj, GRB.MINIMIZE)\n",
    "\n",
    "    m.optimize()   \n",
    "    \n",
    "#     ypre = m.getAttr('x', ypre)\n",
    "#     print(alpha.x)\n",
    "    \n",
    "#     LlistTr = []\n",
    "#     for i in range(YloadTr.shape[0]):   \n",
    "#         listmax = []\n",
    "#         for j in range(Nregion):\n",
    "#             listmax.append(lpvalueloss['F'][0,j][0,0]*ypre[i]+\\\n",
    "#                        lpvalueloss['F'][0,j][0,1]*YloadTr[i]+lpvalueloss['g'][0,j][0,0])\n",
    "#         LlistTr.append(max(listmax))\n",
    "#     return ypre.values(),LlistTr\n",
    "    \n",
    "\n",
    "#     ypre = m.getAttr('x', ypre)\n",
    "#     return ypre.values()\n",
    "    \n",
    "    Llist = m.getAttr('x', Llist)\n",
    "    weights = m.getAttr('x', weights)\n",
    "    \n",
    "    weights = weights.values()\n",
    "    print(weights)\n",
    "    print(alpha.x)\n",
    "    \n",
    "    \n",
    "    ypreTr = []\n",
    "    ypreTe = []\n",
    "    ypreTr = []\n",
    "    ypreTe = []\n",
    "    for n in range(XTr.shape[0]):\n",
    "        \n",
    "        ypreTr.append(sum([XTr[n,nw]*weights[nw] for nw in range(Nweight)])\\\n",
    "                      +weights[Nweight])\n",
    "            \n",
    "#             XTr[n,0]*weights[0]+XTr[n,1]*weights[1]+XTr[n,2]*weights[2]+XTr[n,3]*weights[3]+weights[4])\n",
    "    YTr_preO = DeProcessing(np.array(ypreTr),Ymin,Ymax)\n",
    "    \n",
    "    for n in range(XTe.shape[0]):\n",
    "        \n",
    "        ypreTe.append(sum([XTe[n,nw]*weights[nw] for nw in range(Nweight)])\\\n",
    "                      +weights[Nweight])\n",
    "    YTe_preO = DeProcessing(np.array(ypreTe),Ymin,Ymax)\n",
    "    \n",
    "#     LlistTe = []\n",
    "#     for i in range(XTe.shape[0]):   \n",
    "#         listmax = []\n",
    "#         for j in range(Nregion):\n",
    "#             listmax.append(lpvalueloss['F'][0,j][0,0]*YTe_preO[i]*N+lpvalueloss['F'][0,j][0,1]*YloadTe[i]+\\\n",
    "#                        lpvalueloss['F'][0,j][0,2]*YTe[i]*N+lpvalueloss['g'][0,j][0,0])\n",
    "#         LlistTe.append(max(listmax))\n",
    "    \n",
    "    return YTe_preO,YTr_preO\n",
    "    \n",
    "    \n"
   ]
  },
  {
   "cell_type": "code",
   "execution_count": 22,
   "metadata": {},
   "outputs": [
    {
     "name": "stdout",
     "output_type": "stream",
     "text": [
      "Gurobi Optimizer version 10.0.2 build v10.0.2rc0 (win64)\n",
      "\n",
      "CPU model: Intel(R) Core(TM) i5-10210U CPU @ 1.60GHz, instruction set [SSE2|AVX|AVX2]\n",
      "Thread count: 4 physical cores, 8 logical processors, using up to 8 threads\n",
      "\n",
      "Optimize a model with 55488 rows, 13882 columns and 540952 nonzeros\n",
      "Model fingerprint: 0x8fb2249a\n",
      "Coefficient statistics:\n",
      "  Matrix range     [1e+00, 4e+03]\n",
      "  Objective range  [2e-04, 1e+00]\n",
      "  Bounds range     [0e+00, 0e+00]\n",
      "  RHS range        [5e-03, 6e+03]\n",
      "Presolve removed 6936 rows and 6936 columns\n",
      "Presolve time: 0.35s\n",
      "Presolved: 6946 rows, 48552 columns, 534016 nonzeros\n",
      "\n",
      "Concurrent LP optimizer: dual simplex and barrier\n",
      "Showing barrier log only...\n",
      "\n",
      "Ordering time: 0.00s\n",
      "\n",
      "Barrier statistics:\n",
      " AA' NZ     : 6.940e+04\n",
      " Factor NZ  : 7.669e+04 (roughly 23 MB of memory)\n",
      " Factor Ops : 8.534e+05 (less than 1 second per iteration)\n",
      " Threads    : 3\n",
      "\n",
      "                  Objective                Residual\n",
      "Iter       Primal          Dual         Primal    Dual     Compl     Time\n",
      "   0   3.04601402e+05  1.34329472e+03  5.03e+02 1.69e+02  1.09e+01     0s\n",
      "   1   1.40108275e+05  6.17171405e+03  2.26e+02 3.41e-13  4.93e+00     1s\n",
      "   2   1.98311188e+03  6.07796733e+03  9.05e-01 5.68e-13  6.40e-02     1s\n",
      "   3   1.52109767e+03  2.60052052e+03  4.00e-02 4.26e-13  1.09e-02     1s\n",
      "   4   1.64003805e+03  2.00059290e+03  2.43e-03 1.99e-13  3.49e-03     1s\n",
      "   5   1.74984602e+03  1.91390884e+03  7.23e-04 1.95e-13  1.58e-03     1s\n",
      "   6   1.79220790e+03  1.89600864e+03  4.14e-04 1.98e-13  1.00e-03     1s\n",
      "   7   1.83128471e+03  1.88417952e+03  1.98e-04 1.76e-13  5.10e-04     1s\n",
      "   8   1.85238898e+03  1.87936865e+03  8.85e-05 1.28e-13  2.60e-04     1s\n",
      "   9   1.86165278e+03  1.87698043e+03  4.68e-05 1.97e-13  1.48e-04     1s\n",
      "  10   1.86327114e+03  1.87555494e+03  3.97e-05 1.81e-13  1.18e-04     1s\n",
      "  11   1.86587007e+03  1.87438779e+03  2.87e-05 1.56e-13  8.21e-05     1s\n",
      "  12   1.86936281e+03  1.87362026e+03  1.44e-05 1.21e-13  4.11e-05     1s\n",
      "  13   1.87103847e+03  1.87330672e+03  7.64e-06 1.14e-13  2.19e-05     1s\n",
      "  14   1.87158673e+03  1.87319376e+03  5.53e-06 1.42e-13  1.55e-05     1s\n",
      "  15   1.87185262e+03  1.87310462e+03  4.45e-06 1.71e-13  1.21e-05     1s\n",
      "  16   1.87210380e+03  1.87304388e+03  3.42e-06 1.14e-13  9.07e-06     1s\n",
      "  17   1.87231073e+03  1.87301872e+03  2.60e-06 1.42e-13  6.83e-06     1s\n",
      "  18   1.87253925e+03  1.87300281e+03  1.71e-06 1.56e-13  4.47e-06     1s\n",
      "  19   1.87278672e+03  1.87298476e+03  7.32e-07 1.79e-13  1.91e-06     1s\n",
      "  20   1.87288902e+03  1.87298167e+03  3.37e-07 1.99e-13  8.94e-07     1s\n",
      "  21   1.87293011e+03  1.87298122e+03  1.84e-07 1.99e-13  4.93e-07     1s\n",
      "  22   1.87296946e+03  1.87298112e+03  3.78e-08 1.99e-13  1.12e-07     1s\n",
      "  23   1.87298020e+03  1.87298108e+03  2.76e-09 1.21e-13  8.46e-09     1s\n",
      "  24   1.87298092e+03  1.87298105e+03  8.33e-10 2.42e-13  1.21e-09     1s\n",
      "  25   1.87298104e+03  1.87298104e+03  1.99e-10 1.56e-13  1.34e-11     1s\n",
      "\n",
      "Barrier solved model in 25 iterations and 1.25 seconds (0.75 work units)\n",
      "Optimal objective 1.87298104e+03\n",
      "\n",
      "\n",
      "Solved with dual simplex\n",
      "Iteration    Objective       Primal Inf.    Dual Inf.      Time\n",
      "   10722    1.8729810e+03   0.000000e+00   0.000000e+00      1s\n",
      "\n",
      "Solved in 10722 iterations and 1.37 seconds (1.05 work units)\n",
      "Optimal objective  1.872981044e+03\n",
      "[0.0581868619855228, 0.06846189062338472, -0.03448166600247684, 0.13608467460224294, -0.5024229362993482, -0.5774148596816889, 0.36054863425329176, 0.592307116632394, 0.6305964290311533]\n",
      "1405.0007846556502\n",
      "Wall time: 7.69 s\n"
     ]
    }
   ],
   "source": [
    "%%time\n",
    "YTe_preOaversion,YTr_preOaversion = \\\n",
    "risk_aversion(XTrR,YTr,XTeR)"
   ]
  },
  {
   "cell_type": "markdown",
   "metadata": {},
   "source": [
    "## Evaluation"
   ]
  },
  {
   "cell_type": "code",
   "execution_count": 23,
   "metadata": {},
   "outputs": [],
   "source": [
    "def toy_decision(load,loadTr,cd1=18,cd2=16,cu1=55,cu2=60):\n",
    "    \n",
    "    m=grb.Model(\"toyDA\")\n",
    "    m.Params.LogToConsole = 0\n",
    "    \n",
    "    Pg1DA = m.addVar(vtype=GRB.CONTINUOUS)\n",
    "    Pg2DA = m.addVar(vtype=GRB.CONTINUOUS)\n",
    "    \n",
    "    m.addConstr(Pg1DA <= 70)\n",
    "    m.addConstr(-Pg1DA <= 0)\n",
    "    \n",
    "    m.addConstr(Pg2DA <= 70)\n",
    "    m.addConstr(-Pg2DA <= 0)\n",
    "    \n",
    "    \n",
    "    m.addConstr(Pg1DA + Pg2DA == load)\n",
    "    \n",
    "    obj = 25*Pg1DA + 30*Pg2DA\n",
    "    \n",
    "    m.setObjective(obj, GRB.MINIMIZE)\n",
    "    m.update()\n",
    "    m.optimize()\n",
    "    \n",
    "    m1=grb.Model(\"toyRT\")\n",
    "    m1.Params.LogToConsole = 0\n",
    "    \n",
    "    Pup1 = m1.addVar(lb = -GRB.INFINITY, vtype=GRB.CONTINUOUS)\n",
    "    Pup2 = m1.addVar(lb = -GRB.INFINITY, vtype=GRB.CONTINUOUS)\n",
    "    Pdown1 = m1.addVar(lb = -GRB.INFINITY, vtype=GRB.CONTINUOUS)\n",
    "    Pdown2 = m1.addVar(lb = -GRB.INFINITY, vtype=GRB.CONTINUOUS)\n",
    "    \n",
    "    m1.addConstr(Pup1 <= 60)\n",
    "    m1.addConstr(-Pup1 <= 0)\n",
    "    \n",
    "    m1.addConstr(Pup2 <= 60)\n",
    "    m1.addConstr(-Pup2 <= 0)\n",
    "    \n",
    "    m1.addConstr(Pdown1 <= 60)\n",
    "    m1.addConstr(-Pdown1 <= 0)\n",
    "    \n",
    "    m1.addConstr(Pdown2 <= 60)\n",
    "    m1.addConstr(-Pdown2 <= 0)\n",
    "        \n",
    "\n",
    "    \n",
    "    m1.addConstr(-Pdown1 - Pdown2 + Pup1 + Pup2 + load - loadTr == 0)\n",
    "    \n",
    "    \n",
    "    obj = -cd1*Pdown1 - cd2*Pdown2 + cu1*Pup1 + cu2*Pup2\n",
    "    \n",
    "    m1.setObjective(obj, GRB.MINIMIZE)\n",
    "    m1.update()\n",
    "    m1.optimize()\n",
    "    \n",
    "\n",
    "    #print(Pup1.x,Pup2.x,Pdown1.x,Pdown2.x)\n",
    "    \n",
    "    shadow_priceRT = m1.getAttr('Pi', m1.getConstrs())\n",
    "\n",
    "    \n",
    "    return m.objVal,shadow_priceRT[-1],m1.objVal\n"
   ]
  },
  {
   "cell_type": "code",
   "execution_count": 24,
   "metadata": {},
   "outputs": [
    {
     "data": {
      "text/plain": [
       "(250.0, 55.0, 550.0)"
      ]
     },
     "execution_count": 24,
     "metadata": {},
     "output_type": "execute_result"
    }
   ],
   "source": [
    "toy_decision(load=10,loadTr=20)"
   ]
  },
  {
   "cell_type": "code",
   "execution_count": 25,
   "metadata": {},
   "outputs": [
    {
     "data": {
      "text/plain": [
       "(500.0, 18.0, -180.0)"
      ]
     },
     "execution_count": 25,
     "metadata": {},
     "output_type": "execute_result"
    }
   ],
   "source": [
    "toy_decision(load=20,loadTr=10)"
   ]
  },
  {
   "cell_type": "code",
   "execution_count": 26,
   "metadata": {},
   "outputs": [],
   "source": [
    "def cost_acc(Ypre,Yload):\n",
    "    cost = np.zeros((Yload.shape[0],))\n",
    "    costDA = np.zeros((Yload.shape[0],))\n",
    "    costRT = np.zeros((Yload.shape[0],))\n",
    "    \n",
    "    for i in range(Yload.shape[0]):\n",
    "        costDA[i],_,costRT[i] = toy_decision(load = Ypre[i],loadTr = Yload[i])\n",
    "\n",
    "        \n",
    "        cost[i] = costDA[i] + costRT[i]\n",
    "    print('min',np.min(cost))\n",
    "    print('max',np.max(cost))\n",
    "    print('mean',np.mean(cost))\n",
    "    print('meanDA',np.mean(costDA))\n",
    "    print('meanRT',np.mean(costRT))\n",
    "    return np.mean(cost),cost"
   ]
  },
  {
   "cell_type": "code",
   "execution_count": 27,
   "metadata": {},
   "outputs": [],
   "source": [
    "def cal_cvar(cost,BETA = BETA):\n",
    "    costre = cost.reshape(-1)\n",
    "    quantile = np.quantile(costre,BETA)\n",
    "    print(quantile)\n",
    "    #print(quantile)\n",
    "    largecost = []\n",
    "    for i in range(costre.shape[0]):\n",
    "        if costre[i]> quantile:\n",
    "            largecost.append(costre[i])\n",
    "            \n",
    "    print(np.mean(largecost))\n",
    "    #return largecost"
   ]
  },
  {
   "cell_type": "markdown",
   "metadata": {},
   "source": [
    "## Accuracy"
   ]
  },
  {
   "cell_type": "markdown",
   "metadata": {},
   "source": [
    "Beta = 0.7"
   ]
  },
  {
   "cell_type": "code",
   "execution_count": 28,
   "metadata": {},
   "outputs": [
    {
     "name": "stdout",
     "output_type": "stream",
     "text": [
      "min 125.77089743196152\n",
      "max 3669.097670800525\n",
      "mean 1718.8676674691392\n",
      "meanDA 1449.771640824602\n",
      "meanRT 269.0960266445371\n"
     ]
    }
   ],
   "source": [
    "_,costaccTr = cost_acc(Ypre=YTr_preOacc,Yload=YTr)"
   ]
  },
  {
   "cell_type": "code",
   "execution_count": 29,
   "metadata": {},
   "outputs": [
    {
     "name": "stdout",
     "output_type": "stream",
     "text": [
      "min 379.26281399198\n",
      "max 3857.736616068906\n",
      "mean 1879.9398052096021\n",
      "meanDA 1480.6015668140599\n",
      "meanRT 399.33823839554213\n"
     ]
    }
   ],
   "source": [
    "_,costaccTe = cost_acc(Ypre=YTe_preOacc,Yload=YTe)"
   ]
  },
  {
   "cell_type": "code",
   "execution_count": 30,
   "metadata": {},
   "outputs": [
    {
     "name": "stdout",
     "output_type": "stream",
     "text": [
      "2120.617492267519\n",
      "2499.912578836383\n"
     ]
    }
   ],
   "source": [
    "cal_cvar(costaccTr)"
   ]
  },
  {
   "cell_type": "code",
   "execution_count": 31,
   "metadata": {},
   "outputs": [
    {
     "name": "stdout",
     "output_type": "stream",
     "text": [
      "2242.5719762575973\n",
      "2677.731992493126\n"
     ]
    }
   ],
   "source": [
    "cal_cvar(costaccTe)"
   ]
  },
  {
   "cell_type": "markdown",
   "metadata": {},
   "source": [
    "Beta = 0.5"
   ]
  },
  {
   "cell_type": "code",
   "execution_count": 28,
   "metadata": {},
   "outputs": [
    {
     "name": "stdout",
     "output_type": "stream",
     "text": [
      "min 125.77089743196152\n",
      "max 3669.097670800525\n",
      "mean 1718.8676674691392\n",
      "meanDA 1449.771640824602\n",
      "meanRT 269.0960266445371\n"
     ]
    }
   ],
   "source": [
    "_,costaccTr = cost_acc(Ypre=YTr_preOacc,Yload=YTr)"
   ]
  },
  {
   "cell_type": "code",
   "execution_count": 29,
   "metadata": {},
   "outputs": [
    {
     "name": "stdout",
     "output_type": "stream",
     "text": [
      "min 379.26281399198\n",
      "max 3857.736616068906\n",
      "mean 1879.9398052096021\n",
      "meanDA 1480.6015668140599\n",
      "meanRT 399.33823839554213\n"
     ]
    }
   ],
   "source": [
    "_,costaccTe = cost_acc(Ypre=YTe_preOacc,Yload=YTe)"
   ]
  },
  {
   "cell_type": "code",
   "execution_count": 30,
   "metadata": {},
   "outputs": [
    {
     "name": "stdout",
     "output_type": "stream",
     "text": [
      "1752.165016807244\n",
      "2277.6088289115796\n"
     ]
    }
   ],
   "source": [
    "cal_cvar(costaccTr)"
   ]
  },
  {
   "cell_type": "code",
   "execution_count": 31,
   "metadata": {},
   "outputs": [
    {
     "name": "stdout",
     "output_type": "stream",
     "text": [
      "1862.753245163379\n",
      "2430.389454533581\n"
     ]
    }
   ],
   "source": [
    "cal_cvar(costaccTe)"
   ]
  },
  {
   "cell_type": "markdown",
   "metadata": {},
   "source": [
    "Beta = 0.3"
   ]
  },
  {
   "cell_type": "code",
   "execution_count": 28,
   "metadata": {},
   "outputs": [
    {
     "name": "stdout",
     "output_type": "stream",
     "text": [
      "min 125.77089743196152\n",
      "max 3669.097670800525\n",
      "mean 1718.8676674691392\n",
      "meanDA 1449.771640824602\n",
      "meanRT 269.0960266445371\n"
     ]
    }
   ],
   "source": [
    "_,costaccTr = cost_acc(Ypre=YTr_preOacc,Yload=YTr)"
   ]
  },
  {
   "cell_type": "code",
   "execution_count": 29,
   "metadata": {},
   "outputs": [
    {
     "name": "stdout",
     "output_type": "stream",
     "text": [
      "min 379.26281399198\n",
      "max 3857.736616068906\n",
      "mean 1879.9398052096021\n",
      "meanDA 1480.6015668140599\n",
      "meanRT 399.33823839554213\n"
     ]
    }
   ],
   "source": [
    "_,costaccTe = cost_acc(Ypre=YTe_preOacc,Yload=YTe)"
   ]
  },
  {
   "cell_type": "code",
   "execution_count": 30,
   "metadata": {},
   "outputs": [
    {
     "name": "stdout",
     "output_type": "stream",
     "text": [
      "1321.8070071954307\n",
      "2069.3557430732485\n"
     ]
    }
   ],
   "source": [
    "cal_cvar(costaccTr)"
   ]
  },
  {
   "cell_type": "code",
   "execution_count": 31,
   "metadata": {},
   "outputs": [
    {
     "name": "stdout",
     "output_type": "stream",
     "text": [
      "1493.5885417921895\n",
      "2215.1215747241636\n"
     ]
    }
   ],
   "source": [
    "cal_cvar(costaccTe)"
   ]
  },
  {
   "cell_type": "markdown",
   "metadata": {},
   "source": [
    "Beta = 0.2"
   ]
  },
  {
   "cell_type": "code",
   "execution_count": null,
   "metadata": {},
   "outputs": [],
   "source": [
    "_,costaccTr = cost_acc(Ypre=YTr_preOacc,Yload=YTr)"
   ]
  },
  {
   "cell_type": "code",
   "execution_count": null,
   "metadata": {},
   "outputs": [],
   "source": [
    "_,costaccTe = cost_acc(Ypre=YTe_preOacc,Yload=YTe)"
   ]
  },
  {
   "cell_type": "code",
   "execution_count": null,
   "metadata": {},
   "outputs": [],
   "source": [
    "cal_cvar(costaccTr)"
   ]
  },
  {
   "cell_type": "code",
   "execution_count": null,
   "metadata": {},
   "outputs": [],
   "source": [
    "cal_cvar(costaccTe)"
   ]
  },
  {
   "cell_type": "markdown",
   "metadata": {},
   "source": [
    "Beta = 0.1"
   ]
  },
  {
   "cell_type": "code",
   "execution_count": null,
   "metadata": {},
   "outputs": [],
   "source": [
    "_,costaccTr = cost_acc(Ypre=YTr_preOacc,Yload=YTr)"
   ]
  },
  {
   "cell_type": "code",
   "execution_count": null,
   "metadata": {},
   "outputs": [],
   "source": [
    "_,costaccTe = cost_acc(Ypre=YTe_preOacc,Yload=YTe)"
   ]
  },
  {
   "cell_type": "code",
   "execution_count": null,
   "metadata": {},
   "outputs": [],
   "source": [
    "cal_cvar(costaccTr)"
   ]
  },
  {
   "cell_type": "code",
   "execution_count": null,
   "metadata": {},
   "outputs": [],
   "source": [
    "cal_cvar(costaccTe)"
   ]
  },
  {
   "cell_type": "markdown",
   "metadata": {},
   "source": [
    "## Risk neutral"
   ]
  },
  {
   "cell_type": "markdown",
   "metadata": {},
   "source": [
    "Beta = 0.7"
   ]
  },
  {
   "cell_type": "code",
   "execution_count": 32,
   "metadata": {},
   "outputs": [
    {
     "name": "stdout",
     "output_type": "stream",
     "text": [
      "min 348.30231958895456\n",
      "max 3334.491063536213\n",
      "mean 1619.2509077448317\n",
      "meanDA 1792.8466089737854\n",
      "meanRT -173.59570122895352\n"
     ]
    }
   ],
   "source": [
    "_,costneutralTr = cost_acc(Ypre=YTr_preOneutral,Yload=YTr)"
   ]
  },
  {
   "cell_type": "code",
   "execution_count": 33,
   "metadata": {},
   "outputs": [
    {
     "name": "stdout",
     "output_type": "stream",
     "text": [
      "min 526.3891453181434\n",
      "max 3351.501306022885\n",
      "mean 1752.2939234067212\n",
      "meanDA 1812.2653193488818\n",
      "meanRT -59.971395942160385\n"
     ]
    }
   ],
   "source": [
    "_,costneutralTe = cost_acc(Ypre=YTe_preOneutral,Yload=YTe)"
   ]
  },
  {
   "cell_type": "code",
   "execution_count": 34,
   "metadata": {},
   "outputs": [
    {
     "name": "stdout",
     "output_type": "stream",
     "text": [
      "1883.0844958989658\n",
      "2194.3376221848425\n"
     ]
    }
   ],
   "source": [
    "cal_cvar(costneutralTr)"
   ]
  },
  {
   "cell_type": "code",
   "execution_count": 35,
   "metadata": {},
   "outputs": [
    {
     "name": "stdout",
     "output_type": "stream",
     "text": [
      "1958.3491037418519\n",
      "2362.1285326327225\n"
     ]
    }
   ],
   "source": [
    "cal_cvar(costneutralTe)"
   ]
  },
  {
   "cell_type": "markdown",
   "metadata": {},
   "source": [
    "Beta = 0.5"
   ]
  },
  {
   "cell_type": "code",
   "execution_count": 32,
   "metadata": {},
   "outputs": [
    {
     "name": "stdout",
     "output_type": "stream",
     "text": [
      "min 348.30231958895456\n",
      "max 3334.491063536213\n",
      "mean 1619.2509077448317\n",
      "meanDA 1792.8466089737854\n",
      "meanRT -173.59570122895352\n"
     ]
    }
   ],
   "source": [
    "_,costneutralTr = cost_acc(Ypre=YTr_preOneutral,Yload=YTr)"
   ]
  },
  {
   "cell_type": "code",
   "execution_count": 33,
   "metadata": {},
   "outputs": [
    {
     "name": "stdout",
     "output_type": "stream",
     "text": [
      "min 526.3891453181434\n",
      "max 3351.501306022885\n",
      "mean 1752.2939234067212\n",
      "meanDA 1812.2653193488818\n",
      "meanRT -59.971395942160385\n"
     ]
    }
   ],
   "source": [
    "_,costneutralTe = cost_acc(Ypre=YTe_preOneutral,Yload=YTe)"
   ]
  },
  {
   "cell_type": "code",
   "execution_count": 34,
   "metadata": {},
   "outputs": [
    {
     "name": "stdout",
     "output_type": "stream",
     "text": [
      "1656.5523981905744\n",
      "2023.1550160345978\n"
     ]
    }
   ],
   "source": [
    "cal_cvar(costneutralTr)"
   ]
  },
  {
   "cell_type": "code",
   "execution_count": 35,
   "metadata": {},
   "outputs": [
    {
     "name": "stdout",
     "output_type": "stream",
     "text": [
      "1717.23687199907\n",
      "2151.8212255797425\n"
     ]
    }
   ],
   "source": [
    "cal_cvar(costneutralTe)"
   ]
  },
  {
   "cell_type": "markdown",
   "metadata": {},
   "source": [
    "Beta = 0.3"
   ]
  },
  {
   "cell_type": "code",
   "execution_count": 32,
   "metadata": {},
   "outputs": [
    {
     "name": "stdout",
     "output_type": "stream",
     "text": [
      "min 348.30231958895456\n",
      "max 3334.491063536213\n",
      "mean 1619.2509077448317\n",
      "meanDA 1792.8466089737854\n",
      "meanRT -173.59570122895352\n"
     ]
    }
   ],
   "source": [
    "_,costneutralTr = cost_acc(Ypre=YTr_preOneutral,Yload=YTr)"
   ]
  },
  {
   "cell_type": "code",
   "execution_count": 33,
   "metadata": {},
   "outputs": [
    {
     "name": "stdout",
     "output_type": "stream",
     "text": [
      "min 526.3891453181434\n",
      "max 3351.501306022885\n",
      "mean 1752.2939234067212\n",
      "meanDA 1812.2653193488818\n",
      "meanRT -59.971395942160385\n"
     ]
    }
   ],
   "source": [
    "_,costneutralTe = cost_acc(Ypre=YTe_preOneutral,Yload=YTe)"
   ]
  },
  {
   "cell_type": "code",
   "execution_count": 34,
   "metadata": {},
   "outputs": [
    {
     "name": "stdout",
     "output_type": "stream",
     "text": [
      "1374.6347517774493\n",
      "1880.17002419515\n"
     ]
    }
   ],
   "source": [
    "cal_cvar(costneutralTr)"
   ]
  },
  {
   "cell_type": "code",
   "execution_count": 35,
   "metadata": {},
   "outputs": [
    {
     "name": "stdout",
     "output_type": "stream",
     "text": [
      "1499.816857945393\n",
      "1997.080167683186\n"
     ]
    }
   ],
   "source": [
    "cal_cvar(costneutralTe)"
   ]
  },
  {
   "cell_type": "markdown",
   "metadata": {},
   "source": [
    "Beta = 0.2"
   ]
  },
  {
   "cell_type": "code",
   "execution_count": null,
   "metadata": {},
   "outputs": [],
   "source": [
    "_,costneutralTr = cost_acc(Ypre=YTr_preOneutral,Yload=YTr)"
   ]
  },
  {
   "cell_type": "code",
   "execution_count": null,
   "metadata": {},
   "outputs": [],
   "source": [
    "_,costneutralTe = cost_acc(Ypre=YTe_preOneutral,Yload=YTe)"
   ]
  },
  {
   "cell_type": "code",
   "execution_count": null,
   "metadata": {},
   "outputs": [],
   "source": [
    "cal_cvar(costneutralTr)"
   ]
  },
  {
   "cell_type": "code",
   "execution_count": null,
   "metadata": {},
   "outputs": [],
   "source": [
    "cal_cvar(costneutralTe)"
   ]
  },
  {
   "cell_type": "markdown",
   "metadata": {},
   "source": [
    "Beta = 0.1"
   ]
  },
  {
   "cell_type": "code",
   "execution_count": null,
   "metadata": {},
   "outputs": [],
   "source": [
    "_,costneutralTr = cost_acc(Ypre=YTr_preOneutral,Yload=YTr)"
   ]
  },
  {
   "cell_type": "code",
   "execution_count": null,
   "metadata": {},
   "outputs": [],
   "source": [
    "_,costneutralTe = cost_acc(Ypre=YTe_preOneutral,Yload=YTe)"
   ]
  },
  {
   "cell_type": "code",
   "execution_count": null,
   "metadata": {},
   "outputs": [],
   "source": [
    "cal_cvar(costneutralTr)"
   ]
  },
  {
   "cell_type": "code",
   "execution_count": null,
   "metadata": {},
   "outputs": [],
   "source": [
    "cal_cvar(costneutralTe)"
   ]
  },
  {
   "cell_type": "markdown",
   "metadata": {},
   "source": [
    "## Risk aversion"
   ]
  },
  {
   "cell_type": "markdown",
   "metadata": {},
   "source": [
    "Beta = 0.7"
   ]
  },
  {
   "cell_type": "code",
   "execution_count": 36,
   "metadata": {},
   "outputs": [
    {
     "name": "stdout",
     "output_type": "stream",
     "text": [
      "min 559.4641817832662\n",
      "max 3275.8713194707966\n",
      "mean 1670.9145857094559\n",
      "meanDA 2051.418254310006\n",
      "meanRT -380.5036686005498\n"
     ]
    }
   ],
   "source": [
    "_,costaversionTr = cost_acc(Ypre=YTr_preOaversion,Yload=YTr)"
   ]
  },
  {
   "cell_type": "code",
   "execution_count": 37,
   "metadata": {},
   "outputs": [
    {
     "name": "stdout",
     "output_type": "stream",
     "text": [
      "min 703.6793382606254\n",
      "max 3175.809949081569\n",
      "mean 1785.214011002256\n",
      "meanDA 2070.473605118867\n",
      "meanRT -285.25959411661125\n"
     ]
    }
   ],
   "source": [
    "_,costaversionTe = cost_acc(Ypre=YTe_preOaversion,Yload=YTe)"
   ]
  },
  {
   "cell_type": "code",
   "execution_count": 38,
   "metadata": {},
   "outputs": [
    {
     "name": "stdout",
     "output_type": "stream",
     "text": [
      "1916.8856467684395\n",
      "2130.434057452339\n"
     ]
    }
   ],
   "source": [
    "cal_cvar(costaversionTr)"
   ]
  },
  {
   "cell_type": "code",
   "execution_count": 39,
   "metadata": {},
   "outputs": [
    {
     "name": "stdout",
     "output_type": "stream",
     "text": [
      "1973.833705092487\n",
      "2247.6332704910646\n"
     ]
    }
   ],
   "source": [
    "cal_cvar(costaversionTe)"
   ]
  },
  {
   "cell_type": "code",
   "execution_count": 41,
   "metadata": {},
   "outputs": [
    {
     "name": "stdout",
     "output_type": "stream",
     "text": [
      "0.04826418289585097\n"
     ]
    }
   ],
   "source": [
    "print((2362-2248)/2362)"
   ]
  },
  {
   "cell_type": "code",
   "execution_count": 40,
   "metadata": {},
   "outputs": [
    {
     "data": {
      "text/plain": [
       "<matplotlib.legend.Legend at 0x20f1c738948>"
      ]
     },
     "execution_count": 40,
     "metadata": {},
     "output_type": "execute_result"
    },
    {
     "data": {
      "image/png": "[encoded data removed]",
      "text/plain": [
       "<Figure size 432x288 with 1 Axes>"
      ]
     },
     "metadata": {
      "needs_background": "light"
     },
     "output_type": "display_data"
    }
   ],
   "source": [
    "plt.plot(YTe[:196],label = 'true')\n",
    "plt.plot(YTe_preOneutral[:196],label = 'neutral')\n",
    "plt.plot(YTe_preOaversion[:196],label = 'risk aversion')\n",
    "plt.plot(YTe_preOacc[:196],label = 'accuracy')\n",
    "plt.legend()"
   ]
  },
  {
   "cell_type": "markdown",
   "metadata": {},
   "source": [
    "Beta = 0.5"
   ]
  },
  {
   "cell_type": "code",
   "execution_count": 36,
   "metadata": {},
   "outputs": [
    {
     "name": "stdout",
     "output_type": "stream",
     "text": [
      "min 477.4317806736469\n",
      "max 3308.1427939888317\n",
      "mean 1637.9813987097575\n",
      "meanDA 1932.1164403181742\n",
      "meanRT -294.13504160841677\n"
     ]
    }
   ],
   "source": [
    "_,costaversionTr = cost_acc(Ypre=YTr_preOaversion,Yload=YTr)"
   ]
  },
  {
   "cell_type": "code",
   "execution_count": 37,
   "metadata": {},
   "outputs": [
    {
     "name": "stdout",
     "output_type": "stream",
     "text": [
      "min 609.7514720824558\n",
      "max 3237.4131462532514\n",
      "mean 1761.5256002199817\n",
      "meanDA 1952.1680455187982\n",
      "meanRT -190.64244529881617\n"
     ]
    }
   ],
   "source": [
    "_,costaversionTe = cost_acc(Ypre=YTe_preOaversion,Yload=YTe)"
   ]
  },
  {
   "cell_type": "code",
   "execution_count": 38,
   "metadata": {},
   "outputs": [
    {
     "name": "stdout",
     "output_type": "stream",
     "text": [
      "1692.0667874688666\n",
      "2000.3477615957088\n"
     ]
    }
   ],
   "source": [
    "cal_cvar(costaversionTr)"
   ]
  },
  {
   "cell_type": "code",
   "execution_count": 39,
   "metadata": {},
   "outputs": [
    {
     "name": "stdout",
     "output_type": "stream",
     "text": [
      "1754.596208415262\n",
      "2110.9972261610837\n"
     ]
    }
   ],
   "source": [
    "cal_cvar(costaversionTe)"
   ]
  },
  {
   "cell_type": "code",
   "execution_count": 40,
   "metadata": {},
   "outputs": [
    {
     "name": "stdout",
     "output_type": "stream",
     "text": [
      "0.018596001859600187\n"
     ]
    }
   ],
   "source": [
    "print((2151-2111)/2151)"
   ]
  },
  {
   "cell_type": "code",
   "execution_count": 41,
   "metadata": {},
   "outputs": [
    {
     "data": {
      "text/plain": [
       "<matplotlib.legend.Legend at 0x1edf162e808>"
      ]
     },
     "execution_count": 41,
     "metadata": {},
     "output_type": "execute_result"
    },
    {
     "data": {
      "image/png": "[encoded data removed]",
      "text/plain": [
       "<Figure size 432x288 with 1 Axes>"
      ]
     },
     "metadata": {
      "needs_background": "light"
     },
     "output_type": "display_data"
    }
   ],
   "source": [
    "plt.plot(YTe[:196],label = 'true')\n",
    "plt.plot(YTe_preOneutral[:196],label = 'neutral')\n",
    "plt.plot(YTe_preOaversion[:196],label = 'risk aversion')\n",
    "plt.plot(YTe_preOacc[:196],label = 'accuracy')\n",
    "plt.legend()"
   ]
  },
  {
   "cell_type": "markdown",
   "metadata": {},
   "source": [
    "Beta = 0.3"
   ]
  },
  {
   "cell_type": "code",
   "execution_count": 36,
   "metadata": {},
   "outputs": [
    {
     "name": "stdout",
     "output_type": "stream",
     "text": [
      "min 429.33341557336985\n",
      "max 3317.803873954137\n",
      "mean 1624.9010741473248\n",
      "meanDA 1863.7874860185123\n",
      "meanRT -238.88641187118742\n"
     ]
    }
   ],
   "source": [
    "_,costaversionTr = cost_acc(Ypre=YTr_preOaversion,Yload=YTr)"
   ]
  },
  {
   "cell_type": "code",
   "execution_count": 37,
   "metadata": {},
   "outputs": [
    {
     "name": "stdout",
     "output_type": "stream",
     "text": [
      "min 571.8058021514362\n",
      "max 3272.582133078169\n",
      "mean 1753.7205914798255\n",
      "meanDA 1884.6438881898614\n",
      "meanRT -130.9232967100358\n"
     ]
    }
   ],
   "source": [
    "_,costaversionTe = cost_acc(Ypre=YTe_preOaversion,Yload=YTe)"
   ]
  },
  {
   "cell_type": "code",
   "execution_count": 38,
   "metadata": {},
   "outputs": [
    {
     "name": "stdout",
     "output_type": "stream",
     "text": [
      "1405.0177855473314\n",
      "1873.0003221290785\n"
     ]
    }
   ],
   "source": [
    "cal_cvar(costaversionTr)"
   ]
  },
  {
   "cell_type": "code",
   "execution_count": 39,
   "metadata": {},
   "outputs": [
    {
     "name": "stdout",
     "output_type": "stream",
     "text": [
      "1524.9164683757147\n",
      "1984.0617608796413\n"
     ]
    }
   ],
   "source": [
    "cal_cvar(costaversionTe)"
   ]
  },
  {
   "cell_type": "code",
   "execution_count": 40,
   "metadata": {},
   "outputs": [
    {
     "name": "stdout",
     "output_type": "stream",
     "text": [
      "0.006509764646970456\n"
     ]
    }
   ],
   "source": [
    "print((1997-1984)/1997)"
   ]
  },
  {
   "cell_type": "code",
   "execution_count": 41,
   "metadata": {},
   "outputs": [
    {
     "data": {
      "text/plain": [
       "<matplotlib.legend.Legend at 0x1c8c2b4e488>"
      ]
     },
     "execution_count": 41,
     "metadata": {},
     "output_type": "execute_result"
    },
    {
     "data": {
      "image/png": "[encoded data removed]",
      "text/plain": [
       "<Figure size 432x288 with 1 Axes>"
      ]
     },
     "metadata": {
      "needs_background": "light"
     },
     "output_type": "display_data"
    }
   ],
   "source": [
    "plt.plot(YTe[:196],label = 'true')\n",
    "plt.plot(YTe_preOneutral[:196],label = 'neutral')\n",
    "plt.plot(YTe_preOaversion[:196],label = 'risk aversion')\n",
    "plt.plot(YTe_preOacc[:196],label = 'accuracy')\n",
    "plt.legend()"
   ]
  },
  {
   "cell_type": "markdown",
   "metadata": {},
   "source": [
    "Beta = 0.2"
   ]
  },
  {
   "cell_type": "code",
   "execution_count": null,
   "metadata": {},
   "outputs": [],
   "source": [
    "_,costaversionTr = cost_acc(Ypre=YTr_preOaversion,Yload=YTr)"
   ]
  },
  {
   "cell_type": "code",
   "execution_count": null,
   "metadata": {},
   "outputs": [],
   "source": [
    "_,costaversionTe = cost_acc(Ypre=YTe_preOaversion,Yload=YTe)"
   ]
  },
  {
   "cell_type": "code",
   "execution_count": null,
   "metadata": {},
   "outputs": [],
   "source": [
    "cal_cvar(costaversionTr)"
   ]
  },
  {
   "cell_type": "code",
   "execution_count": null,
   "metadata": {},
   "outputs": [],
   "source": [
    "cal_cvar(costaversionTe)"
   ]
  },
  {
   "cell_type": "code",
   "execution_count": null,
   "metadata": {},
   "outputs": [],
   "source": [
    "print((1770-1756)/1770)"
   ]
  },
  {
   "cell_type": "code",
   "execution_count": null,
   "metadata": {},
   "outputs": [],
   "source": [
    "plt.plot(YTe[:196],label = 'true')\n",
    "plt.plot(YTe_preOneutral[:196],label = 'neutral')\n",
    "plt.plot(YTe_preOaversion[:196],label = 'risk aversion')\n",
    "plt.plot(YTe_preOacc[:196],label = 'accuracy')\n",
    "plt.legend()"
   ]
  },
  {
   "cell_type": "markdown",
   "metadata": {},
   "source": [
    "beta = 0.1"
   ]
  },
  {
   "cell_type": "code",
   "execution_count": null,
   "metadata": {},
   "outputs": [],
   "source": [
    "_,costaversionTr = cost_acc(Ypre=YTr_preOaversion,Yload=YTr)"
   ]
  },
  {
   "cell_type": "code",
   "execution_count": null,
   "metadata": {},
   "outputs": [],
   "source": [
    "_,costaversionTe = cost_acc(Ypre=YTe_preOaversion,Yload=YTe)"
   ]
  },
  {
   "cell_type": "code",
   "execution_count": null,
   "metadata": {},
   "outputs": [],
   "source": [
    "cal_cvar(costaversionTr)"
   ]
  },
  {
   "cell_type": "code",
   "execution_count": null,
   "metadata": {},
   "outputs": [],
   "source": [
    "cal_cvar(costaversionTe)"
   ]
  },
  {
   "cell_type": "code",
   "execution_count": null,
   "metadata": {},
   "outputs": [],
   "source": [
    "print((1690-1684)/1690)"
   ]
  },
  {
   "cell_type": "code",
   "execution_count": null,
   "metadata": {},
   "outputs": [],
   "source": [
    "plt.hist(costaversionTe)\n",
    "plt.hist(costneutralTe)"
   ]
  },
  {
   "cell_type": "code",
   "execution_count": null,
   "metadata": {
    "scrolled": true
   },
   "outputs": [],
   "source": [
    "plt.plot(YTe[:196],label = 'true')\n",
    "plt.plot(YTe_preOneutral[:196],label = 'neutral')\n",
    "plt.plot(YTe_preOaversion[:196],label = 'risk aversion')\n",
    "plt.plot(YTe_preOacc[:196],label = 'accuracy')\n",
    "plt.legend()"
   ]
  },
  {
   "cell_type": "code",
   "execution_count": 41,
   "metadata": {},
   "outputs": [],
   "source": [
    "np.savetxt('./resultsNetVPP/Beta3/YTe_preOneutral.txt',YTe_preOneutral)\n",
    "np.savetxt('./resultsNetVPP/Beta3/YTe_preOaversion.txt',YTe_preOaversion)\n",
    "np.savetxt('./resultsNetVPP/Beta3/YTr_preOneutral.txt',YTr_preOneutral)\n",
    "np.savetxt('./resultsNetVPP/Beta3/YTr_preOaversion.txt',YTr_preOaversion)\n",
    "np.savetxt('./resultsNetVPP/Beta3/costaversionTe.txt',costaversionTe)\n",
    "np.savetxt('./resultsNetVPP/Beta3/costneutralTe.txt',costneutralTe)"
   ]
  },
  {
   "cell_type": "code",
   "execution_count": 47,
   "metadata": {},
   "outputs": [],
   "source": [
    "np.savetxt('./resultsNetVPP/YTr_preOacc.txt',YTr_preOacc)\n",
    "np.savetxt('./resultsNetVPP/YTe_preOacc.txt',YTe_preOacc)"
   ]
  },
  {
   "cell_type": "code",
   "execution_count": 48,
   "metadata": {},
   "outputs": [],
   "source": [
    "np.savetxt('./resultsNetVPP/YTr.txt',YTr)\n",
    "np.savetxt('./resultsNetVPP/YTe.txt',YTe)"
   ]
  },
  {
   "cell_type": "code",
   "execution_count": null,
   "metadata": {},
   "outputs": [],
   "source": []
  }
 ],
 "metadata": {
  "kernelspec": {
   "display_name": "Python 3",
   "language": "python",
   "name": "python3"
  },
  "language_info": {
   "codemirror_mode": {
    "name": "ipython",
    "version": 3
   },
   "file_extension": ".py",
   "mimetype": "text/x-python",
   "name": "python",
   "nbconvert_exporter": "python",
   "pygments_lexer": "ipython3",
   "version": "3.7.6"
  }
 },
 "nbformat": 4,
 "nbformat_minor": 4
}
